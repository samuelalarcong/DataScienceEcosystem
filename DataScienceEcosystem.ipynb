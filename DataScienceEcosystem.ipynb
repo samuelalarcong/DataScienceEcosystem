{
 "cells": [
  {
   "cell_type": "markdown",
   "id": "e3ee120e-ae22-4bcb-b3ae-b94341a3a391",
   "metadata": {},
   "source": [
    "# Data Science Tools and Ecosystem"
   ]
  },
  {
   "cell_type": "markdown",
   "id": "9681e0ac-4620-4b5f-9131-81378d2d921f",
   "metadata": {},
   "source": [
    "In this notebook, Data Science Tools and Ecosystem are summarized."
   ]
  },
  {
   "cell_type": "markdown",
   "id": "cb942368-b11c-4ad8-b0f3-85aa6c59ab18",
   "metadata": {},
   "source": [
    "**Objectives:**\n",
    "\n",
    "- List popular languages for Data Science.\n",
    "- Identify commonly used libraries in Data Science.\n",
    "- Introduce development environment tools for Data Science.\n",
    "\n",
    "## Author \n",
    "Samuel Alarcon Gambarte "
   ]
  },
  {
   "cell_type": "markdown",
   "id": "6e4c7bda-b80c-4525-a44c-553f61547d0d",
   "metadata": {},
   "source": [
    "Some of the popular languages that Data Scientists use are:\n",
    "- Python \n",
    "- R \n",
    "- SQL"
   ]
  },
  {
   "cell_type": "markdown",
   "id": "d034d12b-31c7-460f-b2d4-9f65e6b07f4d",
   "metadata": {},
   "source": [
    "Some of the commonly used libraries used by Data Scientists include:\n",
    "- Pandas \n",
    "- NumPy\n",
    "- Matplotlib\n"
   ]
  },
  {
   "cell_type": "markdown",
   "id": "6593369f-8f3d-4ee6-b805-5a8eb09ad1e8",
   "metadata": {},
   "source": [
    "| Data Science Tools         |\n",
    "|----------------------------|\n",
    "| Jupyter Notebook           |\n",
    "| RStudio                    |\n",
    "| Jupyter Lab |\n"
   ]
  },
  {
   "cell_type": "markdown",
   "id": "ace4763c-0503-426d-8ff0-1e4629f43783",
   "metadata": {},
   "source": [
    "### Below are a few examples of evaluating arithmetic expressions in Python."
   ]
  },
  {
   "cell_type": "markdown",
   "id": "3af9dd04-8387-4cde-9d44-939d1a144cf1",
   "metadata": {},
   "source": [
    "This a simple arithmetic expression to mutiply then add integers"
   ]
  },
  {
   "cell_type": "code",
   "execution_count": 3,
   "id": "7fe7910b-d288-4686-a7f8-3cab384d5fbb",
   "metadata": {},
   "outputs": [
    {
     "data": {
      "text/plain": [
       "17"
      ]
     },
     "execution_count": 3,
     "metadata": {},
     "output_type": "execute_result"
    }
   ],
   "source": [
    "(3*4)+5"
   ]
  },
  {
   "cell_type": "markdown",
   "id": "7d7978d0-1f01-45a7-9d28-1b16ea72692d",
   "metadata": {},
   "source": [
    "This will convert 200 minutes to hours by diving by 60"
   ]
  },
  {
   "cell_type": "code",
   "execution_count": 4,
   "id": "8c271b32-bfde-45c0-be36-f5ba759e6c3d",
   "metadata": {},
   "outputs": [],
   "source": [
    "hours = 200/60"
   ]
  },
  {
   "cell_type": "code",
   "execution_count": 5,
   "id": "d82cf7cf-e093-4762-af22-838f3a3b5cc7",
   "metadata": {},
   "outputs": [
    {
     "name": "stdout",
     "output_type": "stream",
     "text": [
      "3.3333333333333335\n"
     ]
    }
   ],
   "source": [
    "print(hours)"
   ]
  },
  {
   "cell_type": "code",
   "execution_count": null,
   "id": "ba907c91-57df-4f02-8442-f86791af5513",
   "metadata": {},
   "outputs": [],
   "source": []
  },
  {
   "cell_type": "code",
   "execution_count": null,
   "id": "8ce5778d-40da-4601-bbd9-1cd8a1f32b5b",
   "metadata": {},
   "outputs": [],
   "source": []
  }
 ],
 "metadata": {
  "kernelspec": {
   "display_name": "Python 3 (ipykernel)",
   "language": "python",
   "name": "python3"
  },
  "language_info": {
   "codemirror_mode": {
    "name": "ipython",
    "version": 3
   },
   "file_extension": ".py",
   "mimetype": "text/x-python",
   "name": "python",
   "nbconvert_exporter": "python",
   "pygments_lexer": "ipython3",
   "version": "3.11.7"
  }
 },
 "nbformat": 4,
 "nbformat_minor": 5
}
